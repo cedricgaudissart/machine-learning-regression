{
 "cells": [
  {
   "cell_type": "markdown",
   "metadata": {},
   "source": [
    "# Import packages"
   ]
  },
  {
   "cell_type": "code",
   "execution_count": null,
   "metadata": {},
   "outputs": [],
   "source": [
    "from utils.cfg import *\n",
    "from utils.utilities import *\n",
    "cfg = Config()"
   ]
  },
  {
   "cell_type": "markdown",
   "metadata": {},
   "source": [
    "# Prepare train data"
   ]
  },
  {
   "cell_type": "code",
   "execution_count": null,
   "metadata": {},
   "outputs": [],
   "source": [
    "# Load the data\n",
    "df_train = pd.read_csv(\n",
    "    filepath_or_buffer=cfg.train_data_path\n",
    ")"
   ]
  },
  {
   "cell_type": "code",
   "execution_count": null,
   "metadata": {},
   "outputs": [],
   "source": [
    "df_train"
   ]
  },
  {
   "cell_type": "code",
   "execution_count": null,
   "metadata": {},
   "outputs": [],
   "source": [
    "# Create a Pandas Profiling report\n",
    "profile = ProfileReport(\n",
    "    df_train, title='Data Profile Report'\n",
    "    , correlations={\n",
    "        \"phi_k\": {\"calculate\": True}\n",
    "        , \"auto\": {\"calculate\": False}\n",
    "    }\n",
    ")\n",
    "\n",
    "# Save the report as an HTML file\n",
    "profile.to_file(cfg.data_profiling_dashboard_path)"
   ]
  }
 ],
 "metadata": {
  "kernelspec": {
   "display_name": "ml-regression",
   "language": "python",
   "name": "python3"
  },
  "language_info": {
   "codemirror_mode": {
    "name": "ipython",
    "version": 3
   },
   "file_extension": ".py",
   "mimetype": "text/x-python",
   "name": "python",
   "nbconvert_exporter": "python",
   "pygments_lexer": "ipython3",
   "version": "3.10.13"
  },
  "orig_nbformat": 4
 },
 "nbformat": 4,
 "nbformat_minor": 2
}
